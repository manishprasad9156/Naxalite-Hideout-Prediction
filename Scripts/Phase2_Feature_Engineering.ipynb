{
 "cells": [
  {
   "cell_type": "markdown",
   "metadata": {},
   "source": [
    "# 📌 Phase 2: Feature Engineering for Naxalite Hideout Prediction\n",
    "\n",
    "This notebook processes the raw location data and enriches it with additional geospatial features such as elevation, distance to villages, etc. These features will be used to train an ML model in the next phase."
   ]
  },
  {
   "cell_type": "code",
   "execution_count": 1,
   "metadata": {},
   "outputs": [
    {
     "data": {
      "text/html": [
       "<div>\n",
       "<style scoped>\n",
       "    .dataframe tbody tr th:only-of-type {\n",
       "        vertical-align: middle;\n",
       "    }\n",
       "\n",
       "    .dataframe tbody tr th {\n",
       "        vertical-align: top;\n",
       "    }\n",
       "\n",
       "    .dataframe thead th {\n",
       "        text-align: right;\n",
       "    }\n",
       "</style>\n",
       "<table border=\"1\" class=\"dataframe\">\n",
       "  <thead>\n",
       "    <tr style=\"text-align: right;\">\n",
       "      <th></th>\n",
       "      <th>name</th>\n",
       "      <th>latitude</th>\n",
       "      <th>longitude</th>\n",
       "      <th>date_range</th>\n",
       "    </tr>\n",
       "  </thead>\n",
       "  <tbody>\n",
       "    <tr>\n",
       "      <th>0</th>\n",
       "      <td>Vashudev rao@takkapali satish</td>\n",
       "      <td>19.12562</td>\n",
       "      <td>81.14555</td>\n",
       "      <td>2025-06-01_to_2025-06-10</td>\n",
       "    </tr>\n",
       "    <tr>\n",
       "      <th>1</th>\n",
       "      <td>Ranita@Jaymati</td>\n",
       "      <td>19.38255</td>\n",
       "      <td>80.88472</td>\n",
       "      <td>2025-06-01_to_2025-06-10</td>\n",
       "    </tr>\n",
       "    <tr>\n",
       "      <th>2</th>\n",
       "      <td>Ranita@Jaymati</td>\n",
       "      <td>19.37888</td>\n",
       "      <td>80.96871</td>\n",
       "      <td>2025-06-01_to_2025-06-10</td>\n",
       "    </tr>\n",
       "    <tr>\n",
       "      <th>3</th>\n",
       "      <td>Ranita@Jaymati</td>\n",
       "      <td>19.42753</td>\n",
       "      <td>80.86589</td>\n",
       "      <td>2025-06-01_to_2025-06-10</td>\n",
       "    </tr>\n",
       "    <tr>\n",
       "      <th>4</th>\n",
       "      <td>Vashudev rao@takkapali satish</td>\n",
       "      <td>19.14920</td>\n",
       "      <td>81.16334</td>\n",
       "      <td>2025-06-11_to_2025-06-20</td>\n",
       "    </tr>\n",
       "  </tbody>\n",
       "</table>\n",
       "</div>"
      ],
      "text/plain": [
       "                            name  latitude  longitude  \\\n",
       "0  Vashudev rao@takkapali satish  19.12562   81.14555   \n",
       "1                 Ranita@Jaymati  19.38255   80.88472   \n",
       "2                 Ranita@Jaymati  19.37888   80.96871   \n",
       "3                 Ranita@Jaymati  19.42753   80.86589   \n",
       "4  Vashudev rao@takkapali satish  19.14920   81.16334   \n",
       "\n",
       "                 date_range  \n",
       "0  2025-06-01_to_2025-06-10  \n",
       "1  2025-06-01_to_2025-06-10  \n",
       "2  2025-06-01_to_2025-06-10  \n",
       "3  2025-06-01_to_2025-06-10  \n",
       "4  2025-06-11_to_2025-06-20  "
      ]
     },
     "execution_count": 1,
     "metadata": {},
     "output_type": "execute_result"
    }
   ],
   "source": [
    "# ✅ Step 1: Load the combined CSV data\n",
    "import pandas as pd\n",
    "df = pd.read_csv(\"../Data/naxal_hideouts_combined.csv\")\n",
    "df.head()"
   ]
  },
  {
   "cell_type": "markdown",
   "metadata": {},
   "source": [
    "## ✅ Step 2: Add Elevation using Open-Elevation API\n",
    "This will fetch elevation (in meters) based on latitude and longitude. It may be slow due to API rate limits."
   ]
  },
  {
   "cell_type": "code",
   "execution_count": 2,
   "metadata": {},
   "outputs": [],
   "source": [
    "import requests\n",
    "import time\n",
    "\n",
    "def get_elevation(lat, lon):\n",
    "    url = f\"https://api.open-elevation.com/api/v1/lookup?locations={lat},{lon}\"\n",
    "    try:\n",
    "        response = requests.get(url)\n",
    "        elevation = response.json()['results'][0]['elevation']\n",
    "        return elevation\n",
    "    except:\n",
    "        return None\n",
    "\n",
    "# Uncomment below to run for all rows (slow)\n",
    "df['elevation'] = df.apply(lambda row: get_elevation(row['latitude'], row['longitude']), axis=1)"
   ]
  },
  {
   "cell_type": "markdown",
   "metadata": {},
   "source": [
    "## ✅ Step 3: Add Distance to Simulated Village\n",
    "You can later replace this with real road or village coordinates using GIS tools or OSM data."
   ]
  },
  {
   "cell_type": "code",
   "execution_count": 3,
   "metadata": {},
   "outputs": [],
   "source": [
    "from geopy.distance import geodesic\n",
    "\n",
    "# Simulate a village nearby (replace with real village coordinates later)\n",
    "village_coord = (19.35000, 80.95000)\n",
    "\n",
    "df['distance_to_village'] = df.apply(\n",
    "    lambda row: geodesic((row['latitude'], row['longitude']), village_coord).km,\n",
    "    axis=1\n",
    ")"
   ]
  },
  {
   "cell_type": "markdown",
   "metadata": {},
   "source": [
    "## ✅ Step 4: Save Enhanced Dataset\n",
    "This will be used for ML model training in Phase 3."
   ]
  },
  {
   "cell_type": "code",
   "execution_count": 4,
   "metadata": {},
   "outputs": [
    {
     "name": "stdout",
     "output_type": "stream",
     "text": [
      "✅ Feature-enhanced dataset saved successfully.\n"
     ]
    },
    {
     "data": {
      "text/html": [
       "<div>\n",
       "<style scoped>\n",
       "    .dataframe tbody tr th:only-of-type {\n",
       "        vertical-align: middle;\n",
       "    }\n",
       "\n",
       "    .dataframe tbody tr th {\n",
       "        vertical-align: top;\n",
       "    }\n",
       "\n",
       "    .dataframe thead th {\n",
       "        text-align: right;\n",
       "    }\n",
       "</style>\n",
       "<table border=\"1\" class=\"dataframe\">\n",
       "  <thead>\n",
       "    <tr style=\"text-align: right;\">\n",
       "      <th></th>\n",
       "      <th>name</th>\n",
       "      <th>latitude</th>\n",
       "      <th>longitude</th>\n",
       "      <th>date_range</th>\n",
       "      <th>elevation</th>\n",
       "      <th>distance_to_village</th>\n",
       "    </tr>\n",
       "  </thead>\n",
       "  <tbody>\n",
       "    <tr>\n",
       "      <th>0</th>\n",
       "      <td>Vashudev rao@takkapali satish</td>\n",
       "      <td>19.12562</td>\n",
       "      <td>81.14555</td>\n",
       "      <td>2025-06-01_to_2025-06-10</td>\n",
       "      <td>479.0</td>\n",
       "      <td>32.243497</td>\n",
       "    </tr>\n",
       "    <tr>\n",
       "      <th>1</th>\n",
       "      <td>Ranita@Jaymati</td>\n",
       "      <td>19.38255</td>\n",
       "      <td>80.88472</td>\n",
       "      <td>2025-06-01_to_2025-06-10</td>\n",
       "      <td>475.0</td>\n",
       "      <td>7.747186</td>\n",
       "    </tr>\n",
       "    <tr>\n",
       "      <th>2</th>\n",
       "      <td>Ranita@Jaymati</td>\n",
       "      <td>19.37888</td>\n",
       "      <td>80.96871</td>\n",
       "      <td>2025-06-01_to_2025-06-10</td>\n",
       "      <td>788.0</td>\n",
       "      <td>3.752889</td>\n",
       "    </tr>\n",
       "    <tr>\n",
       "      <th>3</th>\n",
       "      <td>Ranita@Jaymati</td>\n",
       "      <td>19.42753</td>\n",
       "      <td>80.86589</td>\n",
       "      <td>2025-06-01_to_2025-06-10</td>\n",
       "      <td>365.0</td>\n",
       "      <td>12.317445</td>\n",
       "    </tr>\n",
       "    <tr>\n",
       "      <th>4</th>\n",
       "      <td>Vashudev rao@takkapali satish</td>\n",
       "      <td>19.14920</td>\n",
       "      <td>81.16334</td>\n",
       "      <td>2025-06-11_to_2025-06-20</td>\n",
       "      <td>553.0</td>\n",
       "      <td>31.577480</td>\n",
       "    </tr>\n",
       "  </tbody>\n",
       "</table>\n",
       "</div>"
      ],
      "text/plain": [
       "                            name  latitude  longitude  \\\n",
       "0  Vashudev rao@takkapali satish  19.12562   81.14555   \n",
       "1                 Ranita@Jaymati  19.38255   80.88472   \n",
       "2                 Ranita@Jaymati  19.37888   80.96871   \n",
       "3                 Ranita@Jaymati  19.42753   80.86589   \n",
       "4  Vashudev rao@takkapali satish  19.14920   81.16334   \n",
       "\n",
       "                 date_range  elevation  distance_to_village  \n",
       "0  2025-06-01_to_2025-06-10      479.0            32.243497  \n",
       "1  2025-06-01_to_2025-06-10      475.0             7.747186  \n",
       "2  2025-06-01_to_2025-06-10      788.0             3.752889  \n",
       "3  2025-06-01_to_2025-06-10      365.0            12.317445  \n",
       "4  2025-06-11_to_2025-06-20      553.0            31.577480  "
      ]
     },
     "execution_count": 4,
     "metadata": {},
     "output_type": "execute_result"
    }
   ],
   "source": [
    "df.to_csv(\"../Data/naxal_hideouts_features.csv\", index=False)\n",
    "print(\"✅ Feature-enhanced dataset saved successfully.\")\n",
    "df.head()"
   ]
  },
  {
   "cell_type": "code",
   "execution_count": null,
   "metadata": {},
   "outputs": [],
   "source": []
  },
  {
   "cell_type": "code",
   "execution_count": null,
   "metadata": {},
   "outputs": [],
   "source": []
  }
 ],
 "metadata": {
  "kernelspec": {
   "display_name": "Python 3",
   "language": "python",
   "name": "python3"
  },
  "language_info": {
   "codemirror_mode": {
    "name": "ipython",
    "version": 3
   },
   "file_extension": ".py",
   "mimetype": "text/x-python",
   "name": "python",
   "nbconvert_exporter": "python",
   "pygments_lexer": "ipython3",
   "version": "3.12.10"
  }
 },
 "nbformat": 4,
 "nbformat_minor": 2
}
