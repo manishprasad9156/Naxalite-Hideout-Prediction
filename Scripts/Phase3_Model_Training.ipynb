{
 "cells": [
  {
   "cell_type": "markdown",
   "metadata": {},
   "source": [
    "# 📌 Phase 3: Model Training for Naxalite Hideout Prediction\n",
    "\n",
    "In this notebook, we'll prepare the data and train a classification model to predict likely Naxalite hideout locations using the engineered features."
   ]
  },
  {
   "cell_type": "code",
   "execution_count": 7,
   "metadata": {},
   "outputs": [
    {
     "data": {
      "text/html": [
       "<div>\n",
       "<style scoped>\n",
       "    .dataframe tbody tr th:only-of-type {\n",
       "        vertical-align: middle;\n",
       "    }\n",
       "\n",
       "    .dataframe tbody tr th {\n",
       "        vertical-align: top;\n",
       "    }\n",
       "\n",
       "    .dataframe thead th {\n",
       "        text-align: right;\n",
       "    }\n",
       "</style>\n",
       "<table border=\"1\" class=\"dataframe\">\n",
       "  <thead>\n",
       "    <tr style=\"text-align: right;\">\n",
       "      <th></th>\n",
       "      <th>name</th>\n",
       "      <th>latitude</th>\n",
       "      <th>longitude</th>\n",
       "      <th>date_range</th>\n",
       "      <th>elevation</th>\n",
       "      <th>distance_to_village</th>\n",
       "      <th>label</th>\n",
       "    </tr>\n",
       "  </thead>\n",
       "  <tbody>\n",
       "    <tr>\n",
       "      <th>0</th>\n",
       "      <td>Vashudev rao@takkapali satish</td>\n",
       "      <td>19.12562</td>\n",
       "      <td>81.14555</td>\n",
       "      <td>2025-06-01_to_2025-06-10</td>\n",
       "      <td>479.0</td>\n",
       "      <td>32.243497</td>\n",
       "      <td>1</td>\n",
       "    </tr>\n",
       "    <tr>\n",
       "      <th>1</th>\n",
       "      <td>Ranita@Jaymati</td>\n",
       "      <td>19.38255</td>\n",
       "      <td>80.88472</td>\n",
       "      <td>2025-06-01_to_2025-06-10</td>\n",
       "      <td>475.0</td>\n",
       "      <td>7.747186</td>\n",
       "      <td>1</td>\n",
       "    </tr>\n",
       "    <tr>\n",
       "      <th>2</th>\n",
       "      <td>Ranita@Jaymati</td>\n",
       "      <td>19.37888</td>\n",
       "      <td>80.96871</td>\n",
       "      <td>2025-06-01_to_2025-06-10</td>\n",
       "      <td>788.0</td>\n",
       "      <td>3.752889</td>\n",
       "      <td>1</td>\n",
       "    </tr>\n",
       "    <tr>\n",
       "      <th>3</th>\n",
       "      <td>Ranita@Jaymati</td>\n",
       "      <td>19.42753</td>\n",
       "      <td>80.86589</td>\n",
       "      <td>2025-06-01_to_2025-06-10</td>\n",
       "      <td>365.0</td>\n",
       "      <td>12.317445</td>\n",
       "      <td>1</td>\n",
       "    </tr>\n",
       "    <tr>\n",
       "      <th>4</th>\n",
       "      <td>Vashudev rao@takkapali satish</td>\n",
       "      <td>19.14920</td>\n",
       "      <td>81.16334</td>\n",
       "      <td>2025-06-11_to_2025-06-20</td>\n",
       "      <td>553.0</td>\n",
       "      <td>31.577480</td>\n",
       "      <td>1</td>\n",
       "    </tr>\n",
       "  </tbody>\n",
       "</table>\n",
       "</div>"
      ],
      "text/plain": [
       "                            name  latitude  longitude  \\\n",
       "0  Vashudev rao@takkapali satish  19.12562   81.14555   \n",
       "1                 Ranita@Jaymati  19.38255   80.88472   \n",
       "2                 Ranita@Jaymati  19.37888   80.96871   \n",
       "3                 Ranita@Jaymati  19.42753   80.86589   \n",
       "4  Vashudev rao@takkapali satish  19.14920   81.16334   \n",
       "\n",
       "                 date_range  elevation  distance_to_village  label  \n",
       "0  2025-06-01_to_2025-06-10      479.0            32.243497      1  \n",
       "1  2025-06-01_to_2025-06-10      475.0             7.747186      1  \n",
       "2  2025-06-01_to_2025-06-10      788.0             3.752889      1  \n",
       "3  2025-06-01_to_2025-06-10      365.0            12.317445      1  \n",
       "4  2025-06-11_to_2025-06-20      553.0            31.577480      1  "
      ]
     },
     "execution_count": 7,
     "metadata": {},
     "output_type": "execute_result"
    }
   ],
   "source": [
    "# ✅ Step 1: Load Feature-Enhanced Dataset\n",
    "import pandas as pd\n",
    "\n",
    "df = pd.read_csv(\"../Data/naxal_hideouts_features.csv\")\n",
    "df['label'] = 1  # Mark real hideouts as positive samples\n",
    "df.head()\n"
   ]
  },
  {
   "cell_type": "markdown",
   "metadata": {},
   "source": [
    "## ✅ Step 2: Generate Negative Samples\n",
    "These are random nearby points that we assume are **not** hideouts."
   ]
  },
  {
   "cell_type": "code",
   "execution_count": 8,
   "metadata": {},
   "outputs": [
    {
     "data": {
      "text/html": [
       "<div>\n",
       "<style scoped>\n",
       "    .dataframe tbody tr th:only-of-type {\n",
       "        vertical-align: middle;\n",
       "    }\n",
       "\n",
       "    .dataframe tbody tr th {\n",
       "        vertical-align: top;\n",
       "    }\n",
       "\n",
       "    .dataframe thead th {\n",
       "        text-align: right;\n",
       "    }\n",
       "</style>\n",
       "<table border=\"1\" class=\"dataframe\">\n",
       "  <thead>\n",
       "    <tr style=\"text-align: right;\">\n",
       "      <th></th>\n",
       "      <th>latitude</th>\n",
       "      <th>longitude</th>\n",
       "      <th>elevation</th>\n",
       "      <th>distance_to_village</th>\n",
       "      <th>label</th>\n",
       "    </tr>\n",
       "  </thead>\n",
       "  <tbody>\n",
       "    <tr>\n",
       "      <th>0</th>\n",
       "      <td>19.721122</td>\n",
       "      <td>80.974549</td>\n",
       "      <td>479.0</td>\n",
       "      <td>5.630939</td>\n",
       "      <td>0</td>\n",
       "    </tr>\n",
       "    <tr>\n",
       "      <th>1</th>\n",
       "      <td>19.391798</td>\n",
       "      <td>80.968407</td>\n",
       "      <td>475.0</td>\n",
       "      <td>51.698886</td>\n",
       "      <td>0</td>\n",
       "    </tr>\n",
       "    <tr>\n",
       "      <th>2</th>\n",
       "      <td>19.425974</td>\n",
       "      <td>80.925333</td>\n",
       "      <td>713.0</td>\n",
       "      <td>5.923071</td>\n",
       "      <td>0</td>\n",
       "    </tr>\n",
       "    <tr>\n",
       "      <th>3</th>\n",
       "      <td>19.474822</td>\n",
       "      <td>80.855414</td>\n",
       "      <td>788.0</td>\n",
       "      <td>16.017799</td>\n",
       "      <td>0</td>\n",
       "    </tr>\n",
       "    <tr>\n",
       "      <th>4</th>\n",
       "      <td>19.462909</td>\n",
       "      <td>81.126965</td>\n",
       "      <td>365.0</td>\n",
       "      <td>50.036673</td>\n",
       "      <td>0</td>\n",
       "    </tr>\n",
       "  </tbody>\n",
       "</table>\n",
       "</div>"
      ],
      "text/plain": [
       "    latitude  longitude  elevation  distance_to_village  label\n",
       "0  19.721122  80.974549      479.0             5.630939      0\n",
       "1  19.391798  80.968407      475.0            51.698886      0\n",
       "2  19.425974  80.925333      713.0             5.923071      0\n",
       "3  19.474822  80.855414      788.0            16.017799      0\n",
       "4  19.462909  81.126965      365.0            50.036673      0"
      ]
     },
     "execution_count": 8,
     "metadata": {},
     "output_type": "execute_result"
    }
   ],
   "source": [
    "import numpy as np\n",
    "\n",
    "def generate_negative_samples(df, n_samples=100):\n",
    "    min_lat, max_lat = df['latitude'].min(), df['latitude'].max()\n",
    "    min_lon, max_lon = df['longitude'].min(), df['longitude'].max()\n",
    "\n",
    "    samples = []\n",
    "    for _ in range(n_samples):\n",
    "        lat = np.random.uniform(min_lat, max_lat)\n",
    "        lon = np.random.uniform(min_lon, max_lon)\n",
    "        samples.append([lat, lon])\n",
    "    return pd.DataFrame(samples, columns=['latitude', 'longitude'])\n",
    "\n",
    "neg_df = generate_negative_samples(df, n_samples=len(df))\n",
    "neg_df['elevation'] = df['elevation'].sample(frac=1).values  # Optional: sample elevation\n",
    "neg_df['distance_to_village'] = df['distance_to_village'].sample(frac=1).values\n",
    "neg_df['label'] = 0\n",
    "neg_df.head()"
   ]
  },
  {
   "cell_type": "markdown",
   "metadata": {},
   "source": [
    "## ✅ Step 3: Combine and Shuffle the Dataset"
   ]
  },
  {
   "cell_type": "code",
   "execution_count": 9,
   "metadata": {},
   "outputs": [
    {
     "data": {
      "text/html": [
       "<div>\n",
       "<style scoped>\n",
       "    .dataframe tbody tr th:only-of-type {\n",
       "        vertical-align: middle;\n",
       "    }\n",
       "\n",
       "    .dataframe tbody tr th {\n",
       "        vertical-align: top;\n",
       "    }\n",
       "\n",
       "    .dataframe thead th {\n",
       "        text-align: right;\n",
       "    }\n",
       "</style>\n",
       "<table border=\"1\" class=\"dataframe\">\n",
       "  <thead>\n",
       "    <tr style=\"text-align: right;\">\n",
       "      <th></th>\n",
       "      <th>name</th>\n",
       "      <th>latitude</th>\n",
       "      <th>longitude</th>\n",
       "      <th>date_range</th>\n",
       "      <th>elevation</th>\n",
       "      <th>distance_to_village</th>\n",
       "      <th>label</th>\n",
       "    </tr>\n",
       "  </thead>\n",
       "  <tbody>\n",
       "    <tr>\n",
       "      <th>0</th>\n",
       "      <td>NaN</td>\n",
       "      <td>19.425974</td>\n",
       "      <td>80.925333</td>\n",
       "      <td>NaN</td>\n",
       "      <td>713.0</td>\n",
       "      <td>5.923071</td>\n",
       "      <td>0</td>\n",
       "    </tr>\n",
       "    <tr>\n",
       "      <th>1</th>\n",
       "      <td>Bhaskar@ rajmohan,rajman</td>\n",
       "      <td>19.763610</td>\n",
       "      <td>80.721210</td>\n",
       "      <td>2025-06-21_to_2025-06-30</td>\n",
       "      <td>380.0</td>\n",
       "      <td>51.698886</td>\n",
       "      <td>1</td>\n",
       "    </tr>\n",
       "    <tr>\n",
       "      <th>2</th>\n",
       "      <td>Ranita@Jaymati</td>\n",
       "      <td>19.427530</td>\n",
       "      <td>80.865890</td>\n",
       "      <td>2025-06-01_to_2025-06-10</td>\n",
       "      <td>365.0</td>\n",
       "      <td>12.317445</td>\n",
       "      <td>1</td>\n",
       "    </tr>\n",
       "    <tr>\n",
       "      <th>3</th>\n",
       "      <td>Ranita@Jaymati</td>\n",
       "      <td>19.309170</td>\n",
       "      <td>80.986430</td>\n",
       "      <td>2025-06-11_to_2025-06-20</td>\n",
       "      <td>563.0</td>\n",
       "      <td>5.923071</td>\n",
       "      <td>1</td>\n",
       "    </tr>\n",
       "    <tr>\n",
       "      <th>4</th>\n",
       "      <td>NaN</td>\n",
       "      <td>19.474822</td>\n",
       "      <td>80.855414</td>\n",
       "      <td>NaN</td>\n",
       "      <td>788.0</td>\n",
       "      <td>16.017799</td>\n",
       "      <td>0</td>\n",
       "    </tr>\n",
       "  </tbody>\n",
       "</table>\n",
       "</div>"
      ],
      "text/plain": [
       "                       name   latitude  longitude                date_range  \\\n",
       "0                       NaN  19.425974  80.925333                       NaN   \n",
       "1  Bhaskar@ rajmohan,rajman  19.763610  80.721210  2025-06-21_to_2025-06-30   \n",
       "2            Ranita@Jaymati  19.427530  80.865890  2025-06-01_to_2025-06-10   \n",
       "3            Ranita@Jaymati  19.309170  80.986430  2025-06-11_to_2025-06-20   \n",
       "4                       NaN  19.474822  80.855414                       NaN   \n",
       "\n",
       "   elevation  distance_to_village  label  \n",
       "0      713.0             5.923071      0  \n",
       "1      380.0            51.698886      1  \n",
       "2      365.0            12.317445      1  \n",
       "3      563.0             5.923071      1  \n",
       "4      788.0            16.017799      0  "
      ]
     },
     "execution_count": 9,
     "metadata": {},
     "output_type": "execute_result"
    }
   ],
   "source": [
    "combined_df = pd.concat([df, neg_df], ignore_index=True).sample(frac=1).reset_index(drop=True)\n",
    "combined_df.head()"
   ]
  },
  {
   "cell_type": "markdown",
   "metadata": {},
   "source": [
    "## ✅ Step 4: Train-Test Split"
   ]
  },
  {
   "cell_type": "code",
   "execution_count": 10,
   "metadata": {},
   "outputs": [],
   "source": [
    "from sklearn.model_selection import train_test_split\n",
    "\n",
    "features = ['latitude', 'longitude', 'elevation', 'distance_to_village']\n",
    "X = combined_df[features]\n",
    "y = combined_df['label']\n",
    "\n",
    "X_train, X_test, y_train, y_test = train_test_split(X, y, test_size=0.2, random_state=42)"
   ]
  },
  {
   "cell_type": "markdown",
   "metadata": {},
   "source": [
    "## ✅ Step 5: Train Random Forest Model"
   ]
  },
  {
   "cell_type": "code",
   "execution_count": 11,
   "metadata": {},
   "outputs": [
    {
     "name": "stdout",
     "output_type": "stream",
     "text": [
      "Accuracy: 0.6666666666666666\n",
      "[[3 0]\n",
      " [2 1]]\n",
      "              precision    recall  f1-score   support\n",
      "\n",
      "           0       0.60      1.00      0.75         3\n",
      "           1       1.00      0.33      0.50         3\n",
      "\n",
      "    accuracy                           0.67         6\n",
      "   macro avg       0.80      0.67      0.62         6\n",
      "weighted avg       0.80      0.67      0.62         6\n",
      "\n"
     ]
    }
   ],
   "source": [
    "from sklearn.ensemble import RandomForestClassifier\n",
    "from sklearn.metrics import accuracy_score, classification_report, confusion_matrix\n",
    "\n",
    "model = RandomForestClassifier()\n",
    "model.fit(X_train, y_train)\n",
    "\n",
    "y_pred = model.predict(X_test)\n",
    "\n",
    "print(\"Accuracy:\", accuracy_score(y_test, y_pred))\n",
    "print(confusion_matrix(y_test, y_pred))\n",
    "print(classification_report(y_test, y_pred))"
   ]
  },
  {
   "cell_type": "markdown",
   "metadata": {},
   "source": [
    "## ✅ Step 6: Save the Trained Model"
   ]
  },
  {
   "cell_type": "code",
   "execution_count": 12,
   "metadata": {},
   "outputs": [
    {
     "name": "stdout",
     "output_type": "stream",
     "text": [
      "✅ Model saved to ../app/rf_model.pkl\n"
     ]
    }
   ],
   "source": [
    "import joblib\n",
    "\n",
    "joblib.dump(model, \"../app/rf_model.pkl\")\n",
    "print(\"✅ Model saved to ../app/rf_model.pkl\")"
   ]
  },
  {
   "cell_type": "code",
   "execution_count": null,
   "metadata": {},
   "outputs": [],
   "source": []
  }
 ],
 "metadata": {
  "kernelspec": {
   "display_name": "Python 3",
   "language": "python",
   "name": "python3"
  },
  "language_info": {
   "codemirror_mode": {
    "name": "ipython",
    "version": 3
   },
   "file_extension": ".py",
   "mimetype": "text/x-python",
   "name": "python",
   "nbconvert_exporter": "python",
   "pygments_lexer": "ipython3",
   "version": "3.12.10"
  }
 },
 "nbformat": 4,
 "nbformat_minor": 2
}
