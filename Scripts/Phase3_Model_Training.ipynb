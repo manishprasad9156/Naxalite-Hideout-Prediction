{
 "cells": [
  {
   "cell_type": "markdown",
   "metadata": {},
   "source": [
    "# 📌 Phase 3: Model Training for Naxalite Hideout Prediction\n",
    "\n",
    "In this notebook, we'll prepare the data and train a classification model to predict likely Naxalite hideout locations using the engineered features."
   ]
  },
  {
   "cell_type": "code",
   "execution_count": 1,
   "metadata": {},
   "outputs": [
    {
     "data": {
      "text/html": [
       "<div>\n",
       "<style scoped>\n",
       "    .dataframe tbody tr th:only-of-type {\n",
       "        vertical-align: middle;\n",
       "    }\n",
       "\n",
       "    .dataframe tbody tr th {\n",
       "        vertical-align: top;\n",
       "    }\n",
       "\n",
       "    .dataframe thead th {\n",
       "        text-align: right;\n",
       "    }\n",
       "</style>\n",
       "<table border=\"1\" class=\"dataframe\">\n",
       "  <thead>\n",
       "    <tr style=\"text-align: right;\">\n",
       "      <th></th>\n",
       "      <th>name</th>\n",
       "      <th>latitude</th>\n",
       "      <th>longitude</th>\n",
       "      <th>date_range</th>\n",
       "      <th>elevation</th>\n",
       "      <th>distance_to_village</th>\n",
       "      <th>label</th>\n",
       "    </tr>\n",
       "  </thead>\n",
       "  <tbody>\n",
       "    <tr>\n",
       "      <th>0</th>\n",
       "      <td>Vashudev rao@takkapali satish</td>\n",
       "      <td>19.12562</td>\n",
       "      <td>81.14555</td>\n",
       "      <td>2025-06-01_to_2025-06-10</td>\n",
       "      <td>479.0</td>\n",
       "      <td>32.243497</td>\n",
       "      <td>1</td>\n",
       "    </tr>\n",
       "    <tr>\n",
       "      <th>1</th>\n",
       "      <td>Ranita@Jaymati</td>\n",
       "      <td>19.38255</td>\n",
       "      <td>80.88472</td>\n",
       "      <td>2025-06-01_to_2025-06-10</td>\n",
       "      <td>475.0</td>\n",
       "      <td>7.747186</td>\n",
       "      <td>1</td>\n",
       "    </tr>\n",
       "    <tr>\n",
       "      <th>2</th>\n",
       "      <td>Ranita@Jaymati</td>\n",
       "      <td>19.37888</td>\n",
       "      <td>80.96871</td>\n",
       "      <td>2025-06-01_to_2025-06-10</td>\n",
       "      <td>788.0</td>\n",
       "      <td>3.752889</td>\n",
       "      <td>1</td>\n",
       "    </tr>\n",
       "    <tr>\n",
       "      <th>3</th>\n",
       "      <td>Ranita@Jaymati</td>\n",
       "      <td>19.42753</td>\n",
       "      <td>80.86589</td>\n",
       "      <td>2025-06-01_to_2025-06-10</td>\n",
       "      <td>365.0</td>\n",
       "      <td>12.317445</td>\n",
       "      <td>1</td>\n",
       "    </tr>\n",
       "    <tr>\n",
       "      <th>4</th>\n",
       "      <td>Vashudev rao@takkapali satish</td>\n",
       "      <td>19.14920</td>\n",
       "      <td>81.16334</td>\n",
       "      <td>2025-06-11_to_2025-06-20</td>\n",
       "      <td>553.0</td>\n",
       "      <td>31.577480</td>\n",
       "      <td>1</td>\n",
       "    </tr>\n",
       "  </tbody>\n",
       "</table>\n",
       "</div>"
      ],
      "text/plain": [
       "                            name  latitude  longitude  \\\n",
       "0  Vashudev rao@takkapali satish  19.12562   81.14555   \n",
       "1                 Ranita@Jaymati  19.38255   80.88472   \n",
       "2                 Ranita@Jaymati  19.37888   80.96871   \n",
       "3                 Ranita@Jaymati  19.42753   80.86589   \n",
       "4  Vashudev rao@takkapali satish  19.14920   81.16334   \n",
       "\n",
       "                 date_range  elevation  distance_to_village  label  \n",
       "0  2025-06-01_to_2025-06-10      479.0            32.243497      1  \n",
       "1  2025-06-01_to_2025-06-10      475.0             7.747186      1  \n",
       "2  2025-06-01_to_2025-06-10      788.0             3.752889      1  \n",
       "3  2025-06-01_to_2025-06-10      365.0            12.317445      1  \n",
       "4  2025-06-11_to_2025-06-20      553.0            31.577480      1  "
      ]
     },
     "execution_count": 1,
     "metadata": {},
     "output_type": "execute_result"
    }
   ],
   "source": [
    "# ✅ Step 1: Load Feature-Enhanced Dataset\n",
    "import pandas as pd\n",
    "\n",
    "df = pd.read_csv(\"../Data/naxal_hideouts_features.csv\")\n",
    "df['label'] = 1  # Mark real hideouts as positive samples\n",
    "df.head()\n"
   ]
  },
  {
   "cell_type": "markdown",
   "metadata": {},
   "source": [
    "## ✅ Step 2: Generate Negative Samples\n",
    "These are random nearby points that we assume are **not** hideouts."
   ]
  },
  {
   "cell_type": "code",
   "execution_count": 2,
   "metadata": {},
   "outputs": [
    {
     "data": {
      "text/html": [
       "<div>\n",
       "<style scoped>\n",
       "    .dataframe tbody tr th:only-of-type {\n",
       "        vertical-align: middle;\n",
       "    }\n",
       "\n",
       "    .dataframe tbody tr th {\n",
       "        vertical-align: top;\n",
       "    }\n",
       "\n",
       "    .dataframe thead th {\n",
       "        text-align: right;\n",
       "    }\n",
       "</style>\n",
       "<table border=\"1\" class=\"dataframe\">\n",
       "  <thead>\n",
       "    <tr style=\"text-align: right;\">\n",
       "      <th></th>\n",
       "      <th>latitude</th>\n",
       "      <th>longitude</th>\n",
       "      <th>elevation</th>\n",
       "      <th>distance_to_village</th>\n",
       "      <th>label</th>\n",
       "    </tr>\n",
       "  </thead>\n",
       "  <tbody>\n",
       "    <tr>\n",
       "      <th>0</th>\n",
       "      <td>19.506445</td>\n",
       "      <td>81.091492</td>\n",
       "      <td>465.0</td>\n",
       "      <td>5.923071</td>\n",
       "      <td>0</td>\n",
       "    </tr>\n",
       "    <tr>\n",
       "      <th>1</th>\n",
       "      <td>19.166057</td>\n",
       "      <td>80.752589</td>\n",
       "      <td>455.0</td>\n",
       "      <td>50.167818</td>\n",
       "      <td>0</td>\n",
       "    </tr>\n",
       "    <tr>\n",
       "      <th>2</th>\n",
       "      <td>19.371264</td>\n",
       "      <td>81.088659</td>\n",
       "      <td>620.0</td>\n",
       "      <td>12.317445</td>\n",
       "      <td>0</td>\n",
       "    </tr>\n",
       "    <tr>\n",
       "      <th>3</th>\n",
       "      <td>19.230677</td>\n",
       "      <td>80.865574</td>\n",
       "      <td>365.0</td>\n",
       "      <td>51.708635</td>\n",
       "      <td>0</td>\n",
       "    </tr>\n",
       "    <tr>\n",
       "      <th>4</th>\n",
       "      <td>19.393032</td>\n",
       "      <td>80.727253</td>\n",
       "      <td>479.0</td>\n",
       "      <td>51.553516</td>\n",
       "      <td>0</td>\n",
       "    </tr>\n",
       "  </tbody>\n",
       "</table>\n",
       "</div>"
      ],
      "text/plain": [
       "    latitude  longitude  elevation  distance_to_village  label\n",
       "0  19.506445  81.091492      465.0             5.923071      0\n",
       "1  19.166057  80.752589      455.0            50.167818      0\n",
       "2  19.371264  81.088659      620.0            12.317445      0\n",
       "3  19.230677  80.865574      365.0            51.708635      0\n",
       "4  19.393032  80.727253      479.0            51.553516      0"
      ]
     },
     "execution_count": 2,
     "metadata": {},
     "output_type": "execute_result"
    }
   ],
   "source": [
    "import numpy as np\n",
    "\n",
    "def generate_negative_samples(df, n_samples=100):\n",
    "    min_lat, max_lat = df['latitude'].min(), df['latitude'].max()\n",
    "    min_lon, max_lon = df['longitude'].min(), df['longitude'].max()\n",
    "\n",
    "    samples = []\n",
    "    for _ in range(n_samples):\n",
    "        lat = np.random.uniform(min_lat, max_lat)\n",
    "        lon = np.random.uniform(min_lon, max_lon)\n",
    "        samples.append([lat, lon])\n",
    "    return pd.DataFrame(samples, columns=['latitude', 'longitude'])\n",
    "\n",
    "neg_df = generate_negative_samples(df, n_samples=len(df))\n",
    "neg_df['elevation'] = df['elevation'].sample(frac=1).values  # Optional: sample elevation\n",
    "neg_df['distance_to_village'] = df['distance_to_village'].sample(frac=1).values\n",
    "neg_df['label'] = 0\n",
    "neg_df.head()"
   ]
  },
  {
   "cell_type": "markdown",
   "metadata": {},
   "source": [
    "## ✅ Step 3: Combine and Shuffle the Dataset"
   ]
  },
  {
   "cell_type": "code",
   "execution_count": 3,
   "metadata": {},
   "outputs": [
    {
     "data": {
      "text/html": [
       "<div>\n",
       "<style scoped>\n",
       "    .dataframe tbody tr th:only-of-type {\n",
       "        vertical-align: middle;\n",
       "    }\n",
       "\n",
       "    .dataframe tbody tr th {\n",
       "        vertical-align: top;\n",
       "    }\n",
       "\n",
       "    .dataframe thead th {\n",
       "        text-align: right;\n",
       "    }\n",
       "</style>\n",
       "<table border=\"1\" class=\"dataframe\">\n",
       "  <thead>\n",
       "    <tr style=\"text-align: right;\">\n",
       "      <th></th>\n",
       "      <th>name</th>\n",
       "      <th>latitude</th>\n",
       "      <th>longitude</th>\n",
       "      <th>date_range</th>\n",
       "      <th>elevation</th>\n",
       "      <th>distance_to_village</th>\n",
       "      <th>label</th>\n",
       "    </tr>\n",
       "  </thead>\n",
       "  <tbody>\n",
       "    <tr>\n",
       "      <th>0</th>\n",
       "      <td>NaN</td>\n",
       "      <td>19.761459</td>\n",
       "      <td>81.102674</td>\n",
       "      <td>NaN</td>\n",
       "      <td>671.0</td>\n",
       "      <td>8.204942</td>\n",
       "      <td>0</td>\n",
       "    </tr>\n",
       "    <tr>\n",
       "      <th>1</th>\n",
       "      <td>NaN</td>\n",
       "      <td>19.510531</td>\n",
       "      <td>80.719485</td>\n",
       "      <td>NaN</td>\n",
       "      <td>380.0</td>\n",
       "      <td>50.036673</td>\n",
       "      <td>0</td>\n",
       "    </tr>\n",
       "    <tr>\n",
       "      <th>2</th>\n",
       "      <td>Bhaskar@ rajmohan,rajman</td>\n",
       "      <td>19.800270</td>\n",
       "      <td>80.991760</td>\n",
       "      <td>2025-06-30_to_2025-07-08</td>\n",
       "      <td>671.0</td>\n",
       "      <td>50.036673</td>\n",
       "      <td>1</td>\n",
       "    </tr>\n",
       "    <tr>\n",
       "      <th>3</th>\n",
       "      <td>Ranita@Jaymati</td>\n",
       "      <td>19.375000</td>\n",
       "      <td>80.876480</td>\n",
       "      <td>2025-06-30_to_2025-07-08</td>\n",
       "      <td>455.0</td>\n",
       "      <td>8.204942</td>\n",
       "      <td>1</td>\n",
       "    </tr>\n",
       "    <tr>\n",
       "      <th>4</th>\n",
       "      <td>Vashudev rao@takkapali satish</td>\n",
       "      <td>19.125620</td>\n",
       "      <td>81.145550</td>\n",
       "      <td>2025-06-01_to_2025-06-10</td>\n",
       "      <td>479.0</td>\n",
       "      <td>32.243497</td>\n",
       "      <td>1</td>\n",
       "    </tr>\n",
       "  </tbody>\n",
       "</table>\n",
       "</div>"
      ],
      "text/plain": [
       "                            name   latitude  longitude  \\\n",
       "0                            NaN  19.761459  81.102674   \n",
       "1                            NaN  19.510531  80.719485   \n",
       "2       Bhaskar@ rajmohan,rajman  19.800270  80.991760   \n",
       "3                 Ranita@Jaymati  19.375000  80.876480   \n",
       "4  Vashudev rao@takkapali satish  19.125620  81.145550   \n",
       "\n",
       "                 date_range  elevation  distance_to_village  label  \n",
       "0                       NaN      671.0             8.204942      0  \n",
       "1                       NaN      380.0            50.036673      0  \n",
       "2  2025-06-30_to_2025-07-08      671.0            50.036673      1  \n",
       "3  2025-06-30_to_2025-07-08      455.0             8.204942      1  \n",
       "4  2025-06-01_to_2025-06-10      479.0            32.243497      1  "
      ]
     },
     "execution_count": 3,
     "metadata": {},
     "output_type": "execute_result"
    }
   ],
   "source": [
    "combined_df = pd.concat([df, neg_df], ignore_index=True).sample(frac=1).reset_index(drop=True)\n",
    "combined_df.head()"
   ]
  },
  {
   "cell_type": "markdown",
   "metadata": {},
   "source": [
    "## ✅ Step 4: Train-Test Split"
   ]
  },
  {
   "cell_type": "code",
   "execution_count": 4,
   "metadata": {},
   "outputs": [],
   "source": [
    "from sklearn.model_selection import train_test_split\n",
    "\n",
    "features = ['latitude', 'longitude', 'elevation', 'distance_to_village']\n",
    "X = combined_df[features]\n",
    "y = combined_df['label']\n",
    "\n",
    "X_train, X_test, y_train, y_test = train_test_split(X, y, test_size=0.2, random_state=42)"
   ]
  },
  {
   "cell_type": "markdown",
   "metadata": {},
   "source": [
    "## ✅ Step 5: Train Random Forest Model"
   ]
  },
  {
   "cell_type": "code",
   "execution_count": 5,
   "metadata": {},
   "outputs": [
    {
     "name": "stdout",
     "output_type": "stream",
     "text": [
      "Accuracy: 0.8333333333333334\n",
      "[[4 0]\n",
      " [1 1]]\n",
      "              precision    recall  f1-score   support\n",
      "\n",
      "           0       0.80      1.00      0.89         4\n",
      "           1       1.00      0.50      0.67         2\n",
      "\n",
      "    accuracy                           0.83         6\n",
      "   macro avg       0.90      0.75      0.78         6\n",
      "weighted avg       0.87      0.83      0.81         6\n",
      "\n"
     ]
    }
   ],
   "source": [
    "from sklearn.ensemble import RandomForestClassifier\n",
    "from sklearn.metrics import accuracy_score, classification_report, confusion_matrix\n",
    "\n",
    "model = RandomForestClassifier()\n",
    "model.fit(X_train, y_train)\n",
    "\n",
    "y_pred = model.predict(X_test)\n",
    "\n",
    "print(\"Accuracy:\", accuracy_score(y_test, y_pred))\n",
    "print(confusion_matrix(y_test, y_pred))\n",
    "print(classification_report(y_test, y_pred))"
   ]
  },
  {
   "cell_type": "markdown",
   "metadata": {},
   "source": [
    "## ✅ Step 6: Save the Trained Model"
   ]
  },
  {
   "cell_type": "code",
   "execution_count": 6,
   "metadata": {},
   "outputs": [
    {
     "name": "stdout",
     "output_type": "stream",
     "text": [
      "✅ Model saved to ../Models/rf_model.pkl\n"
     ]
    }
   ],
   "source": [
    "import joblib\n",
    "\n",
    "joblib.dump(model, \"../Models/rf_model.pkl\")\n",
    "print(\"✅ Model saved to ../Models/rf_model.pkl\")"
   ]
  },
  {
   "cell_type": "code",
   "execution_count": null,
   "metadata": {},
   "outputs": [],
   "source": []
  }
 ],
 "metadata": {
  "kernelspec": {
   "display_name": "Python 3",
   "language": "python",
   "name": "python3"
  },
  "language_info": {
   "codemirror_mode": {
    "name": "ipython",
    "version": 3
   },
   "file_extension": ".py",
   "mimetype": "text/x-python",
   "name": "python",
   "nbconvert_exporter": "python",
   "pygments_lexer": "ipython3",
   "version": "3.12.10"
  }
 },
 "nbformat": 4,
 "nbformat_minor": 2
}
