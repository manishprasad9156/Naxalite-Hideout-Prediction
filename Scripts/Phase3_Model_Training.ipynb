{
 "cells": [
  {
   "cell_type": "markdown",
   "metadata": {},
   "source": [
    "# 📌 Phase 3: Model Training for Naxalite Hideout Prediction\n",
    "\n",
    "In this notebook, we'll prepare the data and train a classification model to predict likely Naxalite hideout locations using the engineered features."
   ]
  },
  {
   "cell_type": "code",
   "execution_count": 15,
   "metadata": {},
   "outputs": [
    {
     "data": {
      "text/html": [
       "<div>\n",
       "<style scoped>\n",
       "    .dataframe tbody tr th:only-of-type {\n",
       "        vertical-align: middle;\n",
       "    }\n",
       "\n",
       "    .dataframe tbody tr th {\n",
       "        vertical-align: top;\n",
       "    }\n",
       "\n",
       "    .dataframe thead th {\n",
       "        text-align: right;\n",
       "    }\n",
       "</style>\n",
       "<table border=\"1\" class=\"dataframe\">\n",
       "  <thead>\n",
       "    <tr style=\"text-align: right;\">\n",
       "      <th></th>\n",
       "      <th>name</th>\n",
       "      <th>latitude</th>\n",
       "      <th>longitude</th>\n",
       "      <th>date_range</th>\n",
       "      <th>elevation</th>\n",
       "      <th>distance_to_village</th>\n",
       "      <th>label</th>\n",
       "    </tr>\n",
       "  </thead>\n",
       "  <tbody>\n",
       "    <tr>\n",
       "      <th>0</th>\n",
       "      <td>Vashudev rao@takkapali satish</td>\n",
       "      <td>19.12562</td>\n",
       "      <td>81.14555</td>\n",
       "      <td>2025-06-01_to_2025-06-10</td>\n",
       "      <td>479.0</td>\n",
       "      <td>32.243497</td>\n",
       "      <td>1</td>\n",
       "    </tr>\n",
       "    <tr>\n",
       "      <th>1</th>\n",
       "      <td>Ranita@Jaymati</td>\n",
       "      <td>19.38255</td>\n",
       "      <td>80.88472</td>\n",
       "      <td>2025-06-01_to_2025-06-10</td>\n",
       "      <td>475.0</td>\n",
       "      <td>7.747186</td>\n",
       "      <td>1</td>\n",
       "    </tr>\n",
       "    <tr>\n",
       "      <th>2</th>\n",
       "      <td>Ranita@Jaymati</td>\n",
       "      <td>19.37888</td>\n",
       "      <td>80.96871</td>\n",
       "      <td>2025-06-01_to_2025-06-10</td>\n",
       "      <td>788.0</td>\n",
       "      <td>3.752889</td>\n",
       "      <td>1</td>\n",
       "    </tr>\n",
       "    <tr>\n",
       "      <th>3</th>\n",
       "      <td>Ranita@Jaymati</td>\n",
       "      <td>19.42753</td>\n",
       "      <td>80.86589</td>\n",
       "      <td>2025-06-01_to_2025-06-10</td>\n",
       "      <td>365.0</td>\n",
       "      <td>12.317445</td>\n",
       "      <td>1</td>\n",
       "    </tr>\n",
       "    <tr>\n",
       "      <th>4</th>\n",
       "      <td>Vashudev rao@takkapali satish</td>\n",
       "      <td>19.14920</td>\n",
       "      <td>81.16334</td>\n",
       "      <td>2025-06-11_to_2025-06-20</td>\n",
       "      <td>553.0</td>\n",
       "      <td>31.577480</td>\n",
       "      <td>1</td>\n",
       "    </tr>\n",
       "  </tbody>\n",
       "</table>\n",
       "</div>"
      ],
      "text/plain": [
       "                            name  latitude  longitude  \\\n",
       "0  Vashudev rao@takkapali satish  19.12562   81.14555   \n",
       "1                 Ranita@Jaymati  19.38255   80.88472   \n",
       "2                 Ranita@Jaymati  19.37888   80.96871   \n",
       "3                 Ranita@Jaymati  19.42753   80.86589   \n",
       "4  Vashudev rao@takkapali satish  19.14920   81.16334   \n",
       "\n",
       "                 date_range  elevation  distance_to_village  label  \n",
       "0  2025-06-01_to_2025-06-10      479.0            32.243497      1  \n",
       "1  2025-06-01_to_2025-06-10      475.0             7.747186      1  \n",
       "2  2025-06-01_to_2025-06-10      788.0             3.752889      1  \n",
       "3  2025-06-01_to_2025-06-10      365.0            12.317445      1  \n",
       "4  2025-06-11_to_2025-06-20      553.0            31.577480      1  "
      ]
     },
     "execution_count": 15,
     "metadata": {},
     "output_type": "execute_result"
    }
   ],
   "source": [
    "# ✅ Step 1: Load Feature-Enhanced Dataset\n",
    "import pandas as pd\n",
    "\n",
    "df = pd.read_csv(\"../Data/naxal_hideouts_features.csv\")\n",
    "df['label'] = 1  # Mark real hideouts as positive samples\n",
    "df.head()\n"
   ]
  },
  {
   "cell_type": "markdown",
   "metadata": {},
   "source": [
    "## ✅ Step 2: Generate Negative Samples\n",
    "These are random nearby points that we assume are **not** hideouts."
   ]
  },
  {
   "cell_type": "code",
   "execution_count": 16,
   "metadata": {},
   "outputs": [
    {
     "name": "stdout",
     "output_type": "stream",
     "text": [
      "Defaulting to user installation because normal site-packages is not writeable\n",
      "Requirement already satisfied: numpy in c:\\users\\manis\\appdata\\local\\packages\\pythonsoftwarefoundation.python.3.12_qbz5n2kfra8p0\\localcache\\local-packages\\python312\\site-packages (1.26.4)\n",
      "Note: you may need to restart the kernel to use updated packages.\n"
     ]
    },
    {
     "name": "stderr",
     "output_type": "stream",
     "text": [
      "\n",
      "[notice] A new release of pip is available: 25.0.1 -> 25.1.1\n",
      "[notice] To update, run: C:\\Users\\manis\\AppData\\Local\\Microsoft\\WindowsApps\\PythonSoftwareFoundation.Python.3.12_qbz5n2kfra8p0\\python.exe -m pip install --upgrade pip\n"
     ]
    }
   ],
   "source": [
    "pip install numpy"
   ]
  },
  {
   "cell_type": "code",
   "execution_count": 17,
   "metadata": {},
   "outputs": [
    {
     "data": {
      "text/html": [
       "<div>\n",
       "<style scoped>\n",
       "    .dataframe tbody tr th:only-of-type {\n",
       "        vertical-align: middle;\n",
       "    }\n",
       "\n",
       "    .dataframe tbody tr th {\n",
       "        vertical-align: top;\n",
       "    }\n",
       "\n",
       "    .dataframe thead th {\n",
       "        text-align: right;\n",
       "    }\n",
       "</style>\n",
       "<table border=\"1\" class=\"dataframe\">\n",
       "  <thead>\n",
       "    <tr style=\"text-align: right;\">\n",
       "      <th></th>\n",
       "      <th>latitude</th>\n",
       "      <th>longitude</th>\n",
       "      <th>elevation</th>\n",
       "      <th>distance_to_village</th>\n",
       "      <th>label</th>\n",
       "    </tr>\n",
       "  </thead>\n",
       "  <tbody>\n",
       "    <tr>\n",
       "      <th>0</th>\n",
       "      <td>19.139896</td>\n",
       "      <td>80.850524</td>\n",
       "      <td>671.0</td>\n",
       "      <td>50.167818</td>\n",
       "      <td>0</td>\n",
       "    </tr>\n",
       "    <tr>\n",
       "      <th>1</th>\n",
       "      <td>19.765152</td>\n",
       "      <td>80.799250</td>\n",
       "      <td>553.0</td>\n",
       "      <td>50.036673</td>\n",
       "      <td>0</td>\n",
       "    </tr>\n",
       "    <tr>\n",
       "      <th>2</th>\n",
       "      <td>19.452025</td>\n",
       "      <td>80.815839</td>\n",
       "      <td>380.0</td>\n",
       "      <td>51.698886</td>\n",
       "      <td>0</td>\n",
       "    </tr>\n",
       "    <tr>\n",
       "      <th>3</th>\n",
       "      <td>19.299859</td>\n",
       "      <td>81.009749</td>\n",
       "      <td>620.0</td>\n",
       "      <td>7.747186</td>\n",
       "      <td>0</td>\n",
       "    </tr>\n",
       "    <tr>\n",
       "      <th>4</th>\n",
       "      <td>19.426366</td>\n",
       "      <td>80.743784</td>\n",
       "      <td>455.0</td>\n",
       "      <td>51.708635</td>\n",
       "      <td>0</td>\n",
       "    </tr>\n",
       "  </tbody>\n",
       "</table>\n",
       "</div>"
      ],
      "text/plain": [
       "    latitude  longitude  elevation  distance_to_village  label\n",
       "0  19.139896  80.850524      671.0            50.167818      0\n",
       "1  19.765152  80.799250      553.0            50.036673      0\n",
       "2  19.452025  80.815839      380.0            51.698886      0\n",
       "3  19.299859  81.009749      620.0             7.747186      0\n",
       "4  19.426366  80.743784      455.0            51.708635      0"
      ]
     },
     "execution_count": 17,
     "metadata": {},
     "output_type": "execute_result"
    }
   ],
   "source": [
    "import numpy as np\n",
    "\n",
    "def generate_negative_samples(df, n_samples=100):\n",
    "    min_lat, max_lat = df['latitude'].min(), df['latitude'].max()\n",
    "    min_lon, max_lon = df['longitude'].min(), df['longitude'].max()\n",
    "\n",
    "    samples = []\n",
    "    for _ in range(n_samples):\n",
    "        lat = np.random.uniform(min_lat, max_lat)\n",
    "        lon = np.random.uniform(min_lon, max_lon)\n",
    "        samples.append([lat, lon])\n",
    "    return pd.DataFrame(samples, columns=['latitude', 'longitude'])\n",
    "\n",
    "neg_df = generate_negative_samples(df, n_samples=len(df))\n",
    "neg_df['elevation'] = df['elevation'].sample(frac=1).values  # Optional: sample elevation\n",
    "neg_df['distance_to_village'] = df['distance_to_village'].sample(frac=1).values\n",
    "neg_df['label'] = 0\n",
    "neg_df.head()"
   ]
  },
  {
   "cell_type": "markdown",
   "metadata": {},
   "source": [
    "## ✅ Step 3: Combine and Shuffle the Dataset"
   ]
  },
  {
   "cell_type": "code",
   "execution_count": 18,
   "metadata": {},
   "outputs": [
    {
     "data": {
      "text/html": [
       "<div>\n",
       "<style scoped>\n",
       "    .dataframe tbody tr th:only-of-type {\n",
       "        vertical-align: middle;\n",
       "    }\n",
       "\n",
       "    .dataframe tbody tr th {\n",
       "        vertical-align: top;\n",
       "    }\n",
       "\n",
       "    .dataframe thead th {\n",
       "        text-align: right;\n",
       "    }\n",
       "</style>\n",
       "<table border=\"1\" class=\"dataframe\">\n",
       "  <thead>\n",
       "    <tr style=\"text-align: right;\">\n",
       "      <th></th>\n",
       "      <th>name</th>\n",
       "      <th>latitude</th>\n",
       "      <th>longitude</th>\n",
       "      <th>date_range</th>\n",
       "      <th>elevation</th>\n",
       "      <th>distance_to_village</th>\n",
       "      <th>label</th>\n",
       "    </tr>\n",
       "  </thead>\n",
       "  <tbody>\n",
       "    <tr>\n",
       "      <th>0</th>\n",
       "      <td>NaN</td>\n",
       "      <td>19.734473</td>\n",
       "      <td>81.019953</td>\n",
       "      <td>NaN</td>\n",
       "      <td>479.0</td>\n",
       "      <td>8.204942</td>\n",
       "      <td>0</td>\n",
       "    </tr>\n",
       "    <tr>\n",
       "      <th>1</th>\n",
       "      <td>NaN</td>\n",
       "      <td>19.299859</td>\n",
       "      <td>81.009749</td>\n",
       "      <td>NaN</td>\n",
       "      <td>620.0</td>\n",
       "      <td>7.747186</td>\n",
       "      <td>0</td>\n",
       "    </tr>\n",
       "    <tr>\n",
       "      <th>2</th>\n",
       "      <td>Ranita@Jaymati</td>\n",
       "      <td>19.382550</td>\n",
       "      <td>80.884720</td>\n",
       "      <td>2025-06-01_to_2025-06-10</td>\n",
       "      <td>475.0</td>\n",
       "      <td>7.747186</td>\n",
       "      <td>1</td>\n",
       "    </tr>\n",
       "    <tr>\n",
       "      <th>3</th>\n",
       "      <td>NaN</td>\n",
       "      <td>19.419980</td>\n",
       "      <td>80.918219</td>\n",
       "      <td>NaN</td>\n",
       "      <td>563.0</td>\n",
       "      <td>32.243497</td>\n",
       "      <td>0</td>\n",
       "    </tr>\n",
       "    <tr>\n",
       "      <th>4</th>\n",
       "      <td>Ranita@Jaymati</td>\n",
       "      <td>19.375000</td>\n",
       "      <td>80.876480</td>\n",
       "      <td>2025-06-30_to_2025-07-08</td>\n",
       "      <td>455.0</td>\n",
       "      <td>8.204942</td>\n",
       "      <td>1</td>\n",
       "    </tr>\n",
       "  </tbody>\n",
       "</table>\n",
       "</div>"
      ],
      "text/plain": [
       "             name   latitude  longitude                date_range  elevation  \\\n",
       "0             NaN  19.734473  81.019953                       NaN      479.0   \n",
       "1             NaN  19.299859  81.009749                       NaN      620.0   \n",
       "2  Ranita@Jaymati  19.382550  80.884720  2025-06-01_to_2025-06-10      475.0   \n",
       "3             NaN  19.419980  80.918219                       NaN      563.0   \n",
       "4  Ranita@Jaymati  19.375000  80.876480  2025-06-30_to_2025-07-08      455.0   \n",
       "\n",
       "   distance_to_village  label  \n",
       "0             8.204942      0  \n",
       "1             7.747186      0  \n",
       "2             7.747186      1  \n",
       "3            32.243497      0  \n",
       "4             8.204942      1  "
      ]
     },
     "execution_count": 18,
     "metadata": {},
     "output_type": "execute_result"
    }
   ],
   "source": [
    "combined_df = pd.concat([df, neg_df], ignore_index=True).sample(frac=1).reset_index(drop=True)\n",
    "combined_df.head()"
   ]
  },
  {
   "cell_type": "markdown",
   "metadata": {},
   "source": [
    "## ✅ Step 4: Train-Test Split"
   ]
  },
  {
   "cell_type": "code",
   "execution_count": 19,
   "metadata": {},
   "outputs": [],
   "source": [
    "from sklearn.model_selection import train_test_split\n",
    "\n",
    "features = ['latitude', 'longitude', 'elevation', 'distance_to_village']\n",
    "X = combined_df[features]\n",
    "y = combined_df['label']\n",
    "\n",
    "X_train, X_test, y_train, y_test = train_test_split(X, y, test_size=0.2, random_state=42)"
   ]
  },
  {
   "cell_type": "markdown",
   "metadata": {},
   "source": [
    "## ✅ Step 5: Train Random Forest Model"
   ]
  },
  {
   "cell_type": "code",
   "execution_count": 20,
   "metadata": {},
   "outputs": [
    {
     "name": "stdout",
     "output_type": "stream",
     "text": [
      "Accuracy: 0.6666666666666666\n",
      "[[1 1]\n",
      " [1 3]]\n",
      "              precision    recall  f1-score   support\n",
      "\n",
      "           0       0.50      0.50      0.50         2\n",
      "           1       0.75      0.75      0.75         4\n",
      "\n",
      "    accuracy                           0.67         6\n",
      "   macro avg       0.62      0.62      0.62         6\n",
      "weighted avg       0.67      0.67      0.67         6\n",
      "\n"
     ]
    }
   ],
   "source": [
    "from sklearn.ensemble import RandomForestClassifier\n",
    "from sklearn.metrics import accuracy_score, classification_report, confusion_matrix\n",
    "\n",
    "model = RandomForestClassifier()\n",
    "model.fit(X_train, y_train)\n",
    "\n",
    "y_pred = model.predict(X_test)\n",
    "\n",
    "print(\"Accuracy:\", accuracy_score(y_test, y_pred))\n",
    "print(confusion_matrix(y_test, y_pred))\n",
    "print(classification_report(y_test, y_pred))"
   ]
  },
  {
   "cell_type": "markdown",
   "metadata": {},
   "source": [
    "## ✅ Step 6: Save the Trained Model"
   ]
  },
  {
   "cell_type": "code",
   "execution_count": 21,
   "metadata": {},
   "outputs": [
    {
     "name": "stdout",
     "output_type": "stream",
     "text": [
      "Defaulting to user installation because normal site-packages is not writeable\n",
      "Requirement already satisfied: joblib in c:\\users\\manis\\appdata\\local\\packages\\pythonsoftwarefoundation.python.3.12_qbz5n2kfra8p0\\localcache\\local-packages\\python312\\site-packages (1.4.2)\n",
      "Note: you may need to restart the kernel to use updated packages.\n"
     ]
    },
    {
     "name": "stderr",
     "output_type": "stream",
     "text": [
      "\n",
      "[notice] A new release of pip is available: 25.0.1 -> 25.1.1\n",
      "[notice] To update, run: C:\\Users\\manis\\AppData\\Local\\Microsoft\\WindowsApps\\PythonSoftwareFoundation.Python.3.12_qbz5n2kfra8p0\\python.exe -m pip install --upgrade pip\n"
     ]
    }
   ],
   "source": [
    "pip install joblib"
   ]
  },
  {
   "cell_type": "code",
   "execution_count": 22,
   "metadata": {},
   "outputs": [
    {
     "name": "stdout",
     "output_type": "stream",
     "text": [
      "✅ Model saved to ../Models/rf_model.pkl\n"
     ]
    }
   ],
   "source": [
    "import joblib\n",
    "\n",
    "joblib.dump(model, \"../Models/rf_model.pkl\")\n",
    "print(\"✅ Model saved to ../Models/rf_model.pkl\")"
   ]
  },
  {
   "cell_type": "code",
   "execution_count": null,
   "metadata": {},
   "outputs": [],
   "source": []
  }
 ],
 "metadata": {
  "kernelspec": {
   "display_name": "Python 3",
   "language": "python",
   "name": "python3"
  },
  "language_info": {
   "codemirror_mode": {
    "name": "ipython",
    "version": 3
   },
   "file_extension": ".py",
   "mimetype": "text/x-python",
   "name": "python",
   "nbconvert_exporter": "python",
   "pygments_lexer": "ipython3",
   "version": "3.12.10"
  }
 },
 "nbformat": 4,
 "nbformat_minor": 2
}
